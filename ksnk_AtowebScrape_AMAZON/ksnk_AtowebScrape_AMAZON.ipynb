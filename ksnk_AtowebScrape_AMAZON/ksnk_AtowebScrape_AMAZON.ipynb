{
 "cells": [
  {
   "cell_type": "code",
   "execution_count": 34,
   "id": "f8f75df8-e94c-468d-9b79-e42b339c5357",
   "metadata": {},
   "outputs": [
    {
     "name": "stdout",
     "output_type": "stream",
     "text": [
      "Requirement already satisfied: autoscraper in c:\\users\\vk\\anaconda3\\lib\\site-packages (1.1.12)\n",
      "Requirement already satisfied: lxml in c:\\users\\vk\\anaconda3\\lib\\site-packages (from autoscraper) (4.6.3)\n",
      "Requirement already satisfied: bs4 in c:\\users\\vk\\anaconda3\\lib\\site-packages (from autoscraper) (0.0.1)\n",
      "Requirement already satisfied: requests in c:\\users\\vk\\anaconda3\\lib\\site-packages (from autoscraper) (2.25.1)\n",
      "Requirement already satisfied: beautifulsoup4 in c:\\users\\vk\\anaconda3\\lib\\site-packages (from bs4->autoscraper) (4.9.3)\n",
      "Requirement already satisfied: soupsieve>1.2 in c:\\users\\vk\\anaconda3\\lib\\site-packages (from beautifulsoup4->bs4->autoscraper) (2.2.1)\n",
      "Requirement already satisfied: idna<3,>=2.5 in c:\\users\\vk\\anaconda3\\lib\\site-packages (from requests->autoscraper) (2.10)\n",
      "Requirement already satisfied: chardet<5,>=3.0.2 in c:\\users\\vk\\anaconda3\\lib\\site-packages (from requests->autoscraper) (3.0.4)\n",
      "Requirement already satisfied: urllib3<1.27,>=1.21.1 in c:\\users\\vk\\anaconda3\\lib\\site-packages (from requests->autoscraper) (1.26.4)\n",
      "Requirement already satisfied: certifi>=2017.4.17 in c:\\users\\vk\\anaconda3\\lib\\site-packages (from requests->autoscraper) (2021.5.30)\n"
     ]
    }
   ],
   "source": [
    "!pip install autoscraper"
   ]
  },
  {
   "cell_type": "code",
   "execution_count": 38,
   "id": "428643d7-5d78-464f-9c75-fa87df2a7ed9",
   "metadata": {},
   "outputs": [],
   "source": [
    "from autoscraper import AutoScraper"
   ]
  },
  {
   "cell_type": "code",
   "execution_count": 39,
   "id": "66d64008-35cd-4d5a-9af0-8288771e0ec5",
   "metadata": {},
   "outputs": [],
   "source": [
    "amzon_url = \"https://www.amazon.in/s?k=apple+phones\""
   ]
  },
  {
   "cell_type": "code",
   "execution_count": 40,
   "id": "5ae2f797-12d5-40af-bd69-16b0beaf3326",
   "metadata": {},
   "outputs": [],
   "source": [
    "wanted_list = [\"₹89,900\", \"Apple iPhone 11 Pro Max (64GB) - Midnight Green\", \"971\"]"
   ]
  },
  {
   "cell_type": "code",
   "execution_count": 41,
   "id": "6031b755-af86-4a0d-9812-50bb058d6c7a",
   "metadata": {},
   "outputs": [],
   "source": [
    "scraper = AutoScraper()"
   ]
  },
  {
   "cell_type": "code",
   "execution_count": 42,
   "id": "d9342cc9-2040-4118-8f4c-5bb75c32499f",
   "metadata": {},
   "outputs": [],
   "source": [
    "results = scraper.build(amzon_url, wanted_list)"
   ]
  },
  {
   "cell_type": "code",
   "execution_count": 43,
   "id": "c0d31ea0-d8cf-44e0-a89c-cb197e7ebb69",
   "metadata": {},
   "outputs": [
    {
     "name": "stdout",
     "output_type": "stream",
     "text": [
      "['₹1,45,900', '₹1,49,900', '₹73,900', '₹79,900', '₹89,900', '₹1,17,100', '₹70,900', '₹74,900', '₹79,899', '₹84,900', '₹913', '₹1,499', '₹14,499', '₹17,999', '₹2,999', '₹3,999', '₹999', '₹8,799', '₹10,999', '₹1,999', '₹1,099', '₹1,299', '₹995', '₹5,999', 'New Apple iPhone 12 Pro (512GB) - Silver', 'New Apple iPhone 12 (64GB) - (Product) RED', 'Apple iPhone 11 Pro Max (64GB) - Midnight Green', 'New Apple iPhone 12 Mini (128GB) - Blue', 'New Apple iPhone 12 (128GB) - Black', 'KECHAODAK115 Slim Card Size Dual Sim Phone with External Memory Slot (1.44Inch, Silver)', 'Redmi Note 10 (Aqua Green, 6GB RAM, 128GB Storage) - Amoled Dot Display | 48MP Sony Sensor IMX582 | Snapdragon 678 Processor', 'Nillkin Case for Apple iPhone 11 Pro (5.8\" Inch) CamShield Armor Military Grade Camera Close & Open Double Layered Protection TPU + PC Finish with Kickstand Dark Green', 'Nillkin Universal Telescopic Tabletop Stand for Holding Any Mobile & iPad Till 7.9\" Inch Full Metal Finish/Adjustable Angle / 360 Movable/Work from Home (WFH) Silver', 'Redmi 9 (Sporty Orange, 4GB RAM, 64GB Storage) | 5000 mAh| 2.3GHz Mediatek Helio G35 Octa core Processor', 'Nillkin Case for Apple iPhone 12 Pro Max (6.7\" Inch) Super Frosted Shield Pro Magnetic Hard Back Soft Border (PC + TPU) Cover Raised Bezel Camera Protect with Logo Cut Black', 'Nillkin Case for Apple iPhone 7 Plus Super Frosted Hard Back Cover PC Gold', 'Nillkin Case for Apple iPhone 11 Pro Max (6.5\" Inch) Super Frosted Hard Back Cover PC Without Logo Cut Black Color', 'KECHAODA K115 Slim Card Size Dual Sim Phone with External Memory Slot and 1.44-inch Display(Gold)', 'Nillkin Case for Apple iPad 10.2\" 2019/2020 8th Generation (10.2\" Inch) Bumper Pro Leather Camera Slider Camshield Protect Stand Smart Wake & Sleep Pencil Holder Black', 'Nillkin Case for Apple iPhone 11 Pro (5.8', 'Nillkin Universal Telescopic Tabletop Stand for Holding Any Mobile & iPad Till 7.9', 'Nillkin Case for Apple iPhone 12 Pro Max (6.7', 'Nillkin Case for Apple iPhone 11 Pro Max (6.5', 'Nillkin Case for Apple iPad 10.2', '310', '3,230', '971', '4,124', '11', '40,744', '48,706', '1', '4', '5']\n"
     ]
    }
   ],
   "source": [
    "print(results)"
   ]
  },
  {
   "cell_type": "code",
   "execution_count": 44,
   "id": "19fe7fe2-7247-478e-a59a-fb12f9ff5391",
   "metadata": {},
   "outputs": [
    {
     "data": {
      "text/plain": [
       "{'rule_txcq': ['₹1,45,900',\n",
       "  '₹1,49,900',\n",
       "  '₹73,900',\n",
       "  '₹79,900',\n",
       "  '₹89,900',\n",
       "  '₹1,17,100',\n",
       "  '₹70,900',\n",
       "  '₹74,900',\n",
       "  '₹79,899',\n",
       "  '₹84,900',\n",
       "  '₹913',\n",
       "  '₹1,499',\n",
       "  '₹14,499',\n",
       "  '₹17,999',\n",
       "  '₹2,999',\n",
       "  '₹3,999',\n",
       "  '₹999',\n",
       "  '₹3,999',\n",
       "  '₹8,799',\n",
       "  '₹10,999',\n",
       "  '₹1,999',\n",
       "  '₹3,999',\n",
       "  '₹999',\n",
       "  '₹1,099',\n",
       "  '₹1,099',\n",
       "  '₹1,299',\n",
       "  '₹995',\n",
       "  '₹1,499',\n",
       "  '₹3,999',\n",
       "  '₹5,999'],\n",
       " 'rule_gt9g': ['₹1,45,900',\n",
       "  '₹1,49,900',\n",
       "  '₹73,900',\n",
       "  '₹79,900',\n",
       "  '₹89,900',\n",
       "  '₹1,17,100',\n",
       "  '₹70,900',\n",
       "  '₹74,900',\n",
       "  '₹79,899',\n",
       "  '₹84,900',\n",
       "  '₹913',\n",
       "  '₹1,499',\n",
       "  '₹14,499',\n",
       "  '₹17,999',\n",
       "  '₹2,999',\n",
       "  '₹3,999',\n",
       "  '₹999',\n",
       "  '₹3,999',\n",
       "  '₹8,799',\n",
       "  '₹10,999',\n",
       "  '₹1,999',\n",
       "  '₹3,999',\n",
       "  '₹999',\n",
       "  '₹1,099',\n",
       "  '₹1,099',\n",
       "  '₹1,299',\n",
       "  '₹995',\n",
       "  '₹1,499',\n",
       "  '₹3,999',\n",
       "  '₹5,999'],\n",
       " 'rule_d5h7': ['New Apple iPhone 12 Pro (512GB) - Silver',\n",
       "  'New Apple iPhone 12 (64GB) - (Product) RED',\n",
       "  'Apple iPhone 11 Pro Max (64GB) - Midnight Green',\n",
       "  'New Apple iPhone 12 Mini (128GB) - Blue',\n",
       "  'New Apple iPhone 12 (128GB) - Black',\n",
       "  'KECHAODAK115 Slim Card Size Dual Sim Phone with External Memory Slot (1.44Inch, Silver)',\n",
       "  'Redmi Note 10 (Aqua Green, 6GB RAM, 128GB Storage) - Amoled Dot Display | 48MP Sony Sensor IMX582 | Snapdragon 678 Processor',\n",
       "  'Nillkin Case for Apple iPhone 11 Pro (5.8\" Inch) CamShield Armor Military Grade Camera Close & Open Double Layered Protection TPU + PC Finish with Kickstand Dark Green',\n",
       "  'Nillkin Universal Telescopic Tabletop Stand for Holding Any Mobile & iPad Till 7.9\" Inch Full Metal Finish/Adjustable Angle / 360 Movable/Work from Home (WFH) Silver',\n",
       "  'Redmi 9 (Sporty Orange, 4GB RAM, 64GB Storage) | 5000 mAh| 2.3GHz Mediatek Helio G35 Octa core Processor',\n",
       "  'Nillkin Case for Apple iPhone 12 Pro Max (6.7\" Inch) Super Frosted Shield Pro Magnetic Hard Back Soft Border (PC + TPU) Cover Raised Bezel Camera Protect with Logo Cut Black',\n",
       "  'Nillkin Case for Apple iPhone 7 Plus Super Frosted Hard Back Cover PC Gold',\n",
       "  'Nillkin Case for Apple iPhone 11 Pro Max (6.5\" Inch) Super Frosted Hard Back Cover PC Without Logo Cut Black Color',\n",
       "  'KECHAODA K115 Slim Card Size Dual Sim Phone with External Memory Slot and 1.44-inch Display(Gold)',\n",
       "  'Nillkin Case for Apple iPad 10.2\" 2019/2020 8th Generation (10.2\" Inch) Bumper Pro Leather Camera Slider Camshield Protect Stand Smart Wake & Sleep Pencil Holder Black'],\n",
       " 'rule_oaoo': ['New Apple iPhone 12 Pro (512GB) - Silver',\n",
       "  'New Apple iPhone 12 (64GB) - (Product) RED',\n",
       "  'Apple iPhone 11 Pro Max (64GB) - Midnight Green',\n",
       "  'New Apple iPhone 12 Mini (128GB) - Blue',\n",
       "  'New Apple iPhone 12 (128GB) - Black',\n",
       "  'KECHAODAK115 Slim Card Size Dual Sim Phone with External Memory Slot (1.44Inch, Silver)',\n",
       "  'Redmi Note 10 (Aqua Green, 6GB RAM, 128GB Storage) - Amoled Dot Display | 48MP Sony Sensor IMX582 | Snapdragon 678 Processor',\n",
       "  'Nillkin Case for Apple iPhone 11 Pro (5.8',\n",
       "  'Nillkin Universal Telescopic Tabletop Stand for Holding Any Mobile & iPad Till 7.9',\n",
       "  'Redmi 9 (Sporty Orange, 4GB RAM, 64GB Storage) | 5000 mAh| 2.3GHz Mediatek Helio G35 Octa core Processor',\n",
       "  'Nillkin Case for Apple iPhone 12 Pro Max (6.7',\n",
       "  'Nillkin Case for Apple iPhone 7 Plus Super Frosted Hard Back Cover PC Gold',\n",
       "  'Nillkin Case for Apple iPhone 11 Pro Max (6.5',\n",
       "  'KECHAODA K115 Slim Card Size Dual Sim Phone with External Memory Slot and 1.44-inch Display(Gold)',\n",
       "  'Nillkin Case for Apple iPad 10.2'],\n",
       " 'rule_fzfv': ['310',\n",
       "  '3,230',\n",
       "  '971',\n",
       "  '4,124',\n",
       "  '3,230',\n",
       "  '11',\n",
       "  '40,744',\n",
       "  '48,706',\n",
       "  '1',\n",
       "  '4',\n",
       "  '5']}"
      ]
     },
     "execution_count": 44,
     "metadata": {},
     "output_type": "execute_result"
    }
   ],
   "source": [
    "scraper.get_result_similar(amzon_url, grouped=True)"
   ]
  },
  {
   "cell_type": "code",
   "execution_count": 45,
   "id": "43f001ea-8eae-4403-b41c-ef3cefcba57a",
   "metadata": {},
   "outputs": [],
   "source": [
    "scraper.set_rule_aliases({\"rule_txcq\":\"cost\", \"rule_d5h7\":\"model\", \"rule_fzfv\":\"star\"})\n",
    "scraper.keep_rules([\"rule_txcq\", \"rule_d5h7\", \"rule_fzfv\"])\n",
    "scraper.save(\"amazon_costmodelstar\")"
   ]
  },
  {
   "cell_type": "code",
   "execution_count": 33,
   "id": "895467ae-19a2-4eba-b089-ed4eb518b773",
   "metadata": {},
   "outputs": [],
   "source": [
    "scraper.load(\"amazon_costmodelstar\")"
   ]
  },
  {
   "cell_type": "code",
   "execution_count": 46,
   "id": "1ca745f2-a21a-4a69-b5b7-77e118497928",
   "metadata": {},
   "outputs": [],
   "source": [
    "results = scraper.get_result_similar(\"https://www.amazon.in/s?k=washing+machine&ref\", group_by_alias=True)"
   ]
  },
  {
   "cell_type": "code",
   "execution_count": 49,
   "id": "3beb7dc9-e029-45dd-80be-adef5990516c",
   "metadata": {},
   "outputs": [
    {
     "data": {
      "text/plain": [
       "['Whirlpool 7 Kg 5 Star Semi-Automatic Top Loading Washing Machine (SUPERB ATOM 7.0, Grey Dazzle, TurboScrub Technology)',\n",
       " 'Godrej 6 Kg 5 Star Fully-Automatic Top Loading Washing Machine (WTEON 600 AD 5.0 ROGR, Grey)',\n",
       " 'Whirlpool 7 Kg 5 Star Royal Plus Fully-Automatic Top Loading Washing Machine (WHITEMAGIC ROYAL PLUS 7.0, Grey, Hard Water Wash)',\n",
       " 'Whirlpool 7.5 Kg 5 Star Semi-Automatic Top Loading Washing Machine (ACE 7.5 SUPREME, Grey Dazzle)',\n",
       " 'Onida 6.5 kg Washer Only (WS65WLPT1LR Liliput, Lava Red)',\n",
       " 'Samsung 7.2 kg Semi-Automatic Top Loading Washing Machine (WT725QPNDMPXTL, White and Blue, Center Jet Pulsator)',\n",
       " 'Candy 6.5 kg 5 Star,Silent Forest series semi automatic top load washing machine with strong wash (White, CTT65187W)',\n",
       " 'Panasonic 6.5 kg 5 Star Semi-Automatic Top Loading Washing Machine (NA-W65E5ARB, Blue, Powerful Motor)',\n",
       " 'Onida 9.0 kg Washer Only (W90W, Lava Red)',\n",
       " 'Whirlpool 7 Kg 5 Star Royal Fully-Automatic Top Loading Washing Machine (WHITEMAGIC ROYAL 7.0 GENX, Grey, Hard Water Wash)',\n",
       " 'LG 7 Kg 4 Star Semi-Automatic Top Loading Washing Machine (P7020NGAY, Dark Gray, Collar scrubber)',\n",
       " 'Whirlpool 7.5 Kg 5 Star Royal Plus Fully-Automatic Top Loading Washing Machine (WHITEMAGIC ROYAL PLUS 7.5, Grey, Hard Water Wash)',\n",
       " 'Oracus 6.8 Kg Semi-Automatic Top Loading Washing Machine (OSW68BL, Grey)',\n",
       " 'Samsung 6.5 kg Semi-Automatic 5 Star Top Loading Washing Machine (WT667QPNDPGXTL, White and Maroon, Double Storm Pulsator)',\n",
       " 'DMR 3 kg Inverter Portable Semi Automatic Top-Loading Mini Washing Machine with Dryer Basket (DMR 30-1208 (W2Yr), Black)']"
      ]
     },
     "execution_count": 49,
     "metadata": {},
     "output_type": "execute_result"
    }
   ],
   "source": [
    "results['model']"
   ]
  },
  {
   "cell_type": "code",
   "execution_count": 50,
   "id": "ed4dc9e3-d823-4a10-8378-410de4229d2a",
   "metadata": {},
   "outputs": [
    {
     "data": {
      "text/plain": [
       "['₹9,990',\n",
       " '₹11,250',\n",
       " '₹12,790',\n",
       " '₹16,500',\n",
       " '₹15,740',\n",
       " '₹18,150',\n",
       " '₹10,490',\n",
       " '₹12,050',\n",
       " '₹5,100',\n",
       " '₹5,400',\n",
       " '₹9,690',\n",
       " '₹13,100',\n",
       " '₹6,990',\n",
       " '₹10,200',\n",
       " '₹8,690',\n",
       " '₹11,000',\n",
       " '₹6,290',\n",
       " '₹6,650',\n",
       " '₹15,240',\n",
       " '₹18,950',\n",
       " '₹10,890',\n",
       " '₹13,490',\n",
       " '₹16,740',\n",
       " '₹20,300',\n",
       " '₹6,999',\n",
       " '₹8,899',\n",
       " '₹9,190',\n",
       " '₹12,800',\n",
       " '₹5,095',\n",
       " '₹5,299']"
      ]
     },
     "execution_count": 50,
     "metadata": {},
     "output_type": "execute_result"
    }
   ],
   "source": [
    "results['cost']"
   ]
  },
  {
   "cell_type": "code",
   "execution_count": 51,
   "id": "b7558173-6664-4067-9d15-e9a529578451",
   "metadata": {},
   "outputs": [
    {
     "data": {
      "text/plain": [
       "['5,610',\n",
       " '1,873',\n",
       " '1,620',\n",
       " '741',\n",
       " '2,863',\n",
       " '2,134',\n",
       " '1',\n",
       " '615',\n",
       " '426',\n",
       " '48',\n",
       " '1,168',\n",
       " '881',\n",
       " '4',\n",
       " '1,335']"
      ]
     },
     "execution_count": 51,
     "metadata": {},
     "output_type": "execute_result"
    }
   ],
   "source": [
    "results['star']"
   ]
  },
  {
   "cell_type": "code",
   "execution_count": null,
   "id": "c2f706e2-82e9-424c-8b8e-9352c933b60d",
   "metadata": {},
   "outputs": [],
   "source": []
  }
 ],
 "metadata": {
  "kernelspec": {
   "display_name": "Python 3",
   "language": "python",
   "name": "python3"
  },
  "language_info": {
   "codemirror_mode": {
    "name": "ipython",
    "version": 3
   },
   "file_extension": ".py",
   "mimetype": "text/x-python",
   "name": "python",
   "nbconvert_exporter": "python",
   "pygments_lexer": "ipython3",
   "version": "3.8.8"
  }
 },
 "nbformat": 4,
 "nbformat_minor": 5
}

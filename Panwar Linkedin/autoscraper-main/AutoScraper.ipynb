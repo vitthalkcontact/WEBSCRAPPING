{
  "nbformat": 4,
  "nbformat_minor": 0,
  "metadata": {
    "colab": {
      "name": "AutoScraper.ipynb",
      "provenance": [],
      "collapsed_sections": []
    },
    "kernelspec": {
      "name": "python3",
      "display_name": "Python 3"
    },
    "language_info": {
      "name": "python"
    }
  },
  "cells": [
    {
      "cell_type": "markdown",
      "metadata": {
        "id": "1W6XSQ5bREp7"
      },
      "source": [
        "# Install autoscraper library"
      ]
    },
    {
      "cell_type": "code",
      "metadata": {
        "colab": {
          "base_uri": "https://localhost:8080/"
        },
        "id": "94NL9bi7bJUF",
        "outputId": "7ada6a2d-785d-47eb-c038-a74f6b21236e"
      },
      "source": [
        "pip install autoscraper"
      ],
      "execution_count": null,
      "outputs": [
        {
          "output_type": "stream",
          "text": [
            "Collecting autoscraper\n",
            "  Downloading https://files.pythonhosted.org/packages/50/44/553afbb7624aaa16e71546196c1f3beb170dd555a2822785889a9da5c2e7/autoscraper-1.1.12-py3-none-any.whl\n",
            "Requirement already satisfied: lxml in /usr/local/lib/python3.7/dist-packages (from autoscraper) (4.2.6)\n",
            "Requirement already satisfied: requests in /usr/local/lib/python3.7/dist-packages (from autoscraper) (2.23.0)\n",
            "Requirement already satisfied: bs4 in /usr/local/lib/python3.7/dist-packages (from autoscraper) (0.0.1)\n",
            "Requirement already satisfied: chardet<4,>=3.0.2 in /usr/local/lib/python3.7/dist-packages (from requests->autoscraper) (3.0.4)\n",
            "Requirement already satisfied: idna<3,>=2.5 in /usr/local/lib/python3.7/dist-packages (from requests->autoscraper) (2.10)\n",
            "Requirement already satisfied: certifi>=2017.4.17 in /usr/local/lib/python3.7/dist-packages (from requests->autoscraper) (2020.12.5)\n",
            "Requirement already satisfied: urllib3!=1.25.0,!=1.25.1,<1.26,>=1.21.1 in /usr/local/lib/python3.7/dist-packages (from requests->autoscraper) (1.24.3)\n",
            "Requirement already satisfied: beautifulsoup4 in /usr/local/lib/python3.7/dist-packages (from bs4->autoscraper) (4.6.3)\n",
            "Installing collected packages: autoscraper\n",
            "Successfully installed autoscraper-1.1.12\n"
          ],
          "name": "stdout"
        }
      ]
    },
    {
      "cell_type": "markdown",
      "metadata": {
        "id": "GgUGpr0CRILX"
      },
      "source": [
        "# Load libraries"
      ]
    },
    {
      "cell_type": "code",
      "metadata": {
        "id": "ALZMtnxda2M5"
      },
      "source": [
        "from autoscraper import AutoScraper\n",
        "import pandas as pd"
      ],
      "execution_count": null,
      "outputs": []
    },
    {
      "cell_type": "markdown",
      "metadata": {
        "id": "L7OKP0XhRJ7B"
      },
      "source": [
        "# Defining url and search word"
      ]
    },
    {
      "cell_type": "code",
      "metadata": {
        "id": "g9Aa1tz1bECv",
        "colab": {
          "base_uri": "https://localhost:8080/"
        },
        "outputId": "e7a28583-bd6e-4ded-8956-77da144b566b"
      },
      "source": [
        "search = \"iphone+11+silver\"\n",
        "amazon_url=\"https://www.amazon.in/s?k={}&s=price-desc-rank\".format(search)\n",
        "print(amazon_url)"
      ],
      "execution_count": null,
      "outputs": [
        {
          "output_type": "stream",
          "text": [
            "https://www.amazon.in/s?k=iphone+11+silver&s=price-desc-rank\n"
          ],
          "name": "stdout"
        }
      ]
    },
    {
      "cell_type": "markdown",
      "metadata": {
        "id": "weS6uUACRM3i"
      },
      "source": [
        "# Defining what data I want "
      ]
    },
    {
      "cell_type": "code",
      "metadata": {
        "id": "S6jm0lExbe39"
      },
      "source": [
        "wanted_list=[\"https://m.media-amazon.com/images/I/71umuN8XVeL._AC_UY218_.jpg\",\"New Apple iPhone 12 Pro Max (128GB) - Silver\",\"1,25,900\",\"501\"]"
      ],
      "execution_count": null,
      "outputs": []
    },
    {
      "cell_type": "markdown",
      "metadata": {
        "id": "rewtnHgERVl8"
      },
      "source": [
        "# Creating scraper object"
      ]
    },
    {
      "cell_type": "code",
      "metadata": {
        "id": "dLOSYGYCb1Hq"
      },
      "source": [
        "scraper=AutoScraper()\n",
        "result=scraper.build(amazon_url,wanted_list)"
      ],
      "execution_count": null,
      "outputs": []
    },
    {
      "cell_type": "markdown",
      "metadata": {
        "id": "ETFEs2geRaoL"
      },
      "source": [
        "# Finding similar data"
      ]
    },
    {
      "cell_type": "code",
      "metadata": {
        "colab": {
          "base_uri": "https://localhost:8080/"
        },
        "id": "48wZExqYb4rL",
        "outputId": "93cdc116-f25e-4c38-a485-2cc240755770"
      },
      "source": [
        "data = scraper.get_result_similar(amazon_url,grouped=True)\n",
        "print(data)"
      ],
      "execution_count": null,
      "outputs": [
        {
          "output_type": "stream",
          "text": [
            "{'rule_usb5': ['https://m.media-amazon.com/images/I/71umuN8XVeL._AC_UY218_.jpg', 'https://m.media-amazon.com/images/I/61tuQdl2yLL._AC_UY218_.jpg', 'https://m.media-amazon.com/images/I/61ers6OzvUL._AC_UY218_.jpg', 'https://m.media-amazon.com/images/I/611JavcU70L._AC_UY218_.jpg', 'https://m.media-amazon.com/images/I/61oub4ycmVL._AC_UY218_.jpg', 'https://m.media-amazon.com/images/I/61m6DjujESL._AC_UY218_.jpg', 'https://m.media-amazon.com/images/I/61itOh+Je8L._AC_UY218_.jpg', 'https://m.media-amazon.com/images/I/61VK5q8L-oL._AC_UY218_.jpg', 'https://m.media-amazon.com/images/I/61fkdeyq5QL._AC_UY218_.jpg', 'https://m.media-amazon.com/images/I/61tuQdl2yLL._AC_UY218_.jpg', 'https://m.media-amazon.com/images/I/61oub4ycmVL._AC_UY218_.jpg', 'https://m.media-amazon.com/images/I/61ers6OzvUL._AC_UY218_.jpg', 'https://m.media-amazon.com/images/I/611JavcU70L._AC_UY218_.jpg', 'https://m.media-amazon.com/images/I/611JavcU70L._AC_UY218_.jpg', 'https://m.media-amazon.com/images/I/61oub4ycmVL._AC_UY218_.jpg', 'https://m.media-amazon.com/images/I/61tuQdl2yLL._AC_UY218_.jpg'], 'rule_28ng': ['New Apple iPhone 12 Pro Max (128GB) - Silver', 'Apple iPhone 11 Pro Max (512GB) - Space Grey', 'Apple iPhone 11 Pro Max (512GB) - Midnight Green', 'Apple iPhone 11 Pro Max (512GB) - Gold', 'Apple iPhone 11 Pro Max (512GB) - Silver', 'Apple iPhone 11 Pro (512GB) - Space Grey', 'Apple iPhone 11 Pro (512GB) - Midnight Green', 'Apple iPhone 11 Pro (512GB) - Silver', 'Apple iPhone 11 Pro (512GB) - Gold', 'Apple iPhone 11 Pro Max (256GB) - Space Grey', 'Apple iPhone 11 Pro Max (256GB) - Silver', 'Apple iPhone 11 Pro Max (256GB) - Midnight Green', 'Apple iPhone 11 Pro Max (256GB) - Gold', 'Apple iPhone 11 Pro Max (64GB) - Gold', 'Apple iPhone 11 Pro Max (64GB) - Silver', 'Apple iPhone 11 Pro Max (64GB) - Space Grey'], 'rule_8gec': ['New Apple iPhone 12 Pro Max (128GB) - Silver', 'Apple iPhone 11 Pro Max (512GB) - Space Grey', 'Apple iPhone 11 Pro Max (512GB) - Midnight Green', 'Apple iPhone 11 Pro Max (512GB) - Gold', 'Apple iPhone 11 Pro Max (512GB) - Silver', 'Apple iPhone 11 Pro (512GB) - Space Grey', 'Apple iPhone 11 Pro (512GB) - Midnight Green', 'Apple iPhone 11 Pro (512GB) - Silver', 'Apple iPhone 11 Pro (512GB) - Gold', 'Apple iPhone 11 Pro Max (256GB) - Space Grey', 'Apple iPhone 11 Pro Max (256GB) - Silver', 'Apple iPhone 11 Pro Max (256GB) - Midnight Green', 'Apple iPhone 11 Pro Max (256GB) - Gold', 'Apple iPhone 11 Pro Max (64GB) - Gold', 'Apple iPhone 11 Pro Max (64GB) - Silver', 'Apple iPhone 11 Pro Max (64GB) - Space Grey'], 'rule_6p2g': ['1,25,900', '1,15,900', '1,15,900', '1,15,900', '1,15,900', '1,05,900', '1,05,900', '1,05,900', '1,05,900', '99,900', '94,900', '93,900', '93,900', '92,900', '92,900', '90,900'], 'rule_kgzp': ['501', '754', '754', '754', '754', '864', '864', '864', '864', '754', '754', '754', '754', '43', '754', '754']}\n"
          ],
          "name": "stdout"
        }
      ]
    },
    {
      "cell_type": "code",
      "metadata": {
        "colab": {
          "base_uri": "https://localhost:8080/"
        },
        "id": "OsqHTFhecZmT",
        "outputId": "aba9dac6-c0c2-404f-bf0e-e0b9d978f3fa"
      },
      "source": [
        "keys = list(data.keys())\n",
        "print(keys)"
      ],
      "execution_count": null,
      "outputs": [
        {
          "output_type": "stream",
          "text": [
            "['rule_usb5', 'rule_28ng', 'rule_8gec', 'rule_6p2g', 'rule_kgzp']\n"
          ],
          "name": "stdout"
        }
      ]
    },
    {
      "cell_type": "markdown",
      "metadata": {
        "id": "hiAd0pXPRdYM"
      },
      "source": [
        "# Defining alias"
      ]
    },
    {
      "cell_type": "code",
      "metadata": {
        "id": "GWQz8gfBcDSl"
      },
      "source": [
        "scraper.set_rule_aliases({str(keys[0]):'ImageUrl',str(keys[2]):'Title',str(keys[-2]):'Price',str(keys[-1]):'Reviews'})"
      ],
      "execution_count": null,
      "outputs": []
    },
    {
      "cell_type": "code",
      "metadata": {
        "id": "ZwQCxJsswOw8"
      },
      "source": [
        "scraper.save(\"amazon_in.json\")"
      ],
      "execution_count": null,
      "outputs": []
    },
    {
      "cell_type": "markdown",
      "metadata": {
        "id": "PmjHzVrgRjRS"
      },
      "source": [
        "# Testing for other search word"
      ]
    },
    {
      "cell_type": "code",
      "metadata": {
        "id": "sOWvXZKSwZG6"
      },
      "source": [
        "amazon_scraper = AutoScraper()\n",
        "amazon_scraper.load('amazon_in.json')"
      ],
      "execution_count": null,
      "outputs": []
    },
    {
      "cell_type": "code",
      "metadata": {
        "id": "9LMWQEj8b9GS"
      },
      "source": [
        "search = \"samsung phones\"\n",
        "amazon_url=\"https://www.amazon.in/s?k={}&s=price-desc-rank\".format(search)\n",
        "\n",
        "data = amazon_scraper.get_result_similar(amazon_url, group_by_alias=True)\n",
        "search_data = tuple(zip(data['Title'],data['ImageUrl'],data['Price'],data['Reviews']))"
      ],
      "execution_count": null,
      "outputs": []
    },
    {
      "cell_type": "code",
      "metadata": {
        "id": "miJaw21tvxj-"
      },
      "source": [
        "df = pd.DataFrame(columns=['Query','Title','Price','Reviews','ImageUrl'])\n",
        "for i in range(len(search_data)):\n",
        "    df.loc[len(df)] = [search,search_data[i][0],search_data[i][2],search_data[i][3],search_data[i][1]]"
      ],
      "execution_count": null,
      "outputs": []
    },
    {
      "cell_type": "code",
      "metadata": {
        "colab": {
          "base_uri": "https://localhost:8080/",
          "height": 516
        },
        "id": "_KvWZC4FsB0C",
        "outputId": "32f77176-4400-406a-a658-69a54412e190"
      },
      "source": [
        "print(df.shape)\n",
        "df"
      ],
      "execution_count": null,
      "outputs": [
        {
          "output_type": "stream",
          "text": [
            "(15, 5)\n"
          ],
          "name": "stdout"
        },
        {
          "output_type": "execute_result",
          "data": {
            "text/html": [
              "<div>\n",
              "<style scoped>\n",
              "    .dataframe tbody tr th:only-of-type {\n",
              "        vertical-align: middle;\n",
              "    }\n",
              "\n",
              "    .dataframe tbody tr th {\n",
              "        vertical-align: top;\n",
              "    }\n",
              "\n",
              "    .dataframe thead th {\n",
              "        text-align: right;\n",
              "    }\n",
              "</style>\n",
              "<table border=\"1\" class=\"dataframe\">\n",
              "  <thead>\n",
              "    <tr style=\"text-align: right;\">\n",
              "      <th></th>\n",
              "      <th>Query</th>\n",
              "      <th>Title</th>\n",
              "      <th>Price</th>\n",
              "      <th>Reviews</th>\n",
              "      <th>ImageUrl</th>\n",
              "    </tr>\n",
              "  </thead>\n",
              "  <tbody>\n",
              "    <tr>\n",
              "      <th>0</th>\n",
              "      <td>samsung phones</td>\n",
              "      <td>Samsung Galaxy Z Fold2 5G Mystic Bronze, 12GB ...</td>\n",
              "      <td>1,49,998</td>\n",
              "      <td>70</td>\n",
              "      <td>https://m.media-amazon.com/images/I/71U9nzW+Xs...</td>\n",
              "    </tr>\n",
              "    <tr>\n",
              "      <th>1</th>\n",
              "      <td>samsung phones</td>\n",
              "      <td>Samsung Galaxy Z Fold2 5G (Mystic Black, 12GB ...</td>\n",
              "      <td>1,49,998</td>\n",
              "      <td>70</td>\n",
              "      <td>https://m.media-amazon.com/images/I/71IHjrw1wV...</td>\n",
              "    </tr>\n",
              "    <tr>\n",
              "      <th>2</th>\n",
              "      <td>samsung phones</td>\n",
              "      <td>Samsung Galaxy Fold (Black, 12GB RAM, 512GB St...</td>\n",
              "      <td>1,14,990</td>\n",
              "      <td>15</td>\n",
              "      <td>https://m.media-amazon.com/images/I/71LhAERRPa...</td>\n",
              "    </tr>\n",
              "    <tr>\n",
              "      <th>3</th>\n",
              "      <td>samsung phones</td>\n",
              "      <td>Samsung Galaxy S21 Ultra 5G (Phantom Silver, 1...</td>\n",
              "      <td>1,05,999</td>\n",
              "      <td>388</td>\n",
              "      <td>https://m.media-amazon.com/images/I/91dLTREdG1...</td>\n",
              "    </tr>\n",
              "    <tr>\n",
              "      <th>4</th>\n",
              "      <td>samsung phones</td>\n",
              "      <td>Samsung Galaxy Note 20 Ultra 5G (Mystic Bronze...</td>\n",
              "      <td>1,04,999</td>\n",
              "      <td>329</td>\n",
              "      <td>https://m.media-amazon.com/images/I/81afQk-7Aj...</td>\n",
              "    </tr>\n",
              "    <tr>\n",
              "      <th>5</th>\n",
              "      <td>samsung phones</td>\n",
              "      <td>Samsung Galaxy Note 20 Ultra 5G (Mystic Black,...</td>\n",
              "      <td>1,04,999</td>\n",
              "      <td>329</td>\n",
              "      <td>https://m.media-amazon.com/images/I/81frwlzRG5...</td>\n",
              "    </tr>\n",
              "    <tr>\n",
              "      <th>6</th>\n",
              "      <td>samsung phones</td>\n",
              "      <td>(Renewed) Samsung Galaxy S21 Ultra(Phantom Bla...</td>\n",
              "      <td>97,999</td>\n",
              "      <td>1</td>\n",
              "      <td>https://m.media-amazon.com/images/I/61wES5z2Qe...</td>\n",
              "    </tr>\n",
              "    <tr>\n",
              "      <th>7</th>\n",
              "      <td>samsung phones</td>\n",
              "      <td>Samsung Galaxy S20 Ultra (Cloud White, 12GB RA...</td>\n",
              "      <td>84,999</td>\n",
              "      <td>22</td>\n",
              "      <td>https://m.media-amazon.com/images/I/710PrlbpGA...</td>\n",
              "    </tr>\n",
              "    <tr>\n",
              "      <th>8</th>\n",
              "      <td>samsung phones</td>\n",
              "      <td>Samsung Galaxy Z Flip (Black, 8GB RAM, 256GB S...</td>\n",
              "      <td>84,999</td>\n",
              "      <td>71</td>\n",
              "      <td>https://m.media-amazon.com/images/I/71SyO27jEj...</td>\n",
              "    </tr>\n",
              "    <tr>\n",
              "      <th>9</th>\n",
              "      <td>samsung phones</td>\n",
              "      <td>Samsung Galaxy Z Flip (Gold, 8GB RAM, 256GB St...</td>\n",
              "      <td>84,800</td>\n",
              "      <td>71</td>\n",
              "      <td>https://m.media-amazon.com/images/I/61e3gEDsIb...</td>\n",
              "    </tr>\n",
              "    <tr>\n",
              "      <th>10</th>\n",
              "      <td>samsung phones</td>\n",
              "      <td>Samsung Galaxy Z Flip (Black, 8GB RAM, 256GB S...</td>\n",
              "      <td>83,999</td>\n",
              "      <td>71</td>\n",
              "      <td>https://m.media-amazon.com/images/I/71SyO27jEj...</td>\n",
              "    </tr>\n",
              "    <tr>\n",
              "      <th>11</th>\n",
              "      <td>samsung phones</td>\n",
              "      <td>Samsung Galaxy S21 Plus(Phantom Violet, 8GB RA...</td>\n",
              "      <td>82,990</td>\n",
              "      <td>105</td>\n",
              "      <td>https://m.media-amazon.com/images/I/91f+vkhKfn...</td>\n",
              "    </tr>\n",
              "    <tr>\n",
              "      <th>12</th>\n",
              "      <td>samsung phones</td>\n",
              "      <td>Samsung Galaxy S20 Ultra (Cosmic Gray, 12GB RA...</td>\n",
              "      <td>82,278</td>\n",
              "      <td>22</td>\n",
              "      <td>https://m.media-amazon.com/images/I/71cD4NUIBW...</td>\n",
              "    </tr>\n",
              "    <tr>\n",
              "      <th>13</th>\n",
              "      <td>samsung phones</td>\n",
              "      <td>Samsung Galaxy S21 Plus 5G (Phantom Black, 8GB...</td>\n",
              "      <td>80,999</td>\n",
              "      <td>105</td>\n",
              "      <td>https://m.media-amazon.com/images/I/81SnT-NCKE...</td>\n",
              "    </tr>\n",
              "    <tr>\n",
              "      <th>14</th>\n",
              "      <td>samsung phones</td>\n",
              "      <td>Samsung Galaxy S21 Plus 5G (Phantom Black, 8GB...</td>\n",
              "      <td>80,999</td>\n",
              "      <td>105</td>\n",
              "      <td>https://m.media-amazon.com/images/I/91SG7i7Vqa...</td>\n",
              "    </tr>\n",
              "  </tbody>\n",
              "</table>\n",
              "</div>"
            ],
            "text/plain": [
              "             Query  ...                                           ImageUrl\n",
              "0   samsung phones  ...  https://m.media-amazon.com/images/I/71U9nzW+Xs...\n",
              "1   samsung phones  ...  https://m.media-amazon.com/images/I/71IHjrw1wV...\n",
              "2   samsung phones  ...  https://m.media-amazon.com/images/I/71LhAERRPa...\n",
              "3   samsung phones  ...  https://m.media-amazon.com/images/I/91dLTREdG1...\n",
              "4   samsung phones  ...  https://m.media-amazon.com/images/I/81afQk-7Aj...\n",
              "5   samsung phones  ...  https://m.media-amazon.com/images/I/81frwlzRG5...\n",
              "6   samsung phones  ...  https://m.media-amazon.com/images/I/61wES5z2Qe...\n",
              "7   samsung phones  ...  https://m.media-amazon.com/images/I/710PrlbpGA...\n",
              "8   samsung phones  ...  https://m.media-amazon.com/images/I/71SyO27jEj...\n",
              "9   samsung phones  ...  https://m.media-amazon.com/images/I/61e3gEDsIb...\n",
              "10  samsung phones  ...  https://m.media-amazon.com/images/I/71SyO27jEj...\n",
              "11  samsung phones  ...  https://m.media-amazon.com/images/I/91f+vkhKfn...\n",
              "12  samsung phones  ...  https://m.media-amazon.com/images/I/71cD4NUIBW...\n",
              "13  samsung phones  ...  https://m.media-amazon.com/images/I/81SnT-NCKE...\n",
              "14  samsung phones  ...  https://m.media-amazon.com/images/I/91SG7i7Vqa...\n",
              "\n",
              "[15 rows x 5 columns]"
            ]
          },
          "metadata": {
            "tags": []
          },
          "execution_count": 73
        }
      ]
    },
    {
      "cell_type": "markdown",
      "metadata": {
        "id": "M2eMQGX3Rr58"
      },
      "source": [
        "# [GitHub Link](https://github.com/abhashpanwar/autoscraper)\n",
        "\n",
        "# [Deployment Link](https://abhash-autoscraper.herokuapp.com/)"
      ]
    },
    {
      "cell_type": "code",
      "metadata": {
        "id": "tEQXYs84H7ea"
      },
      "source": [
        ""
      ],
      "execution_count": null,
      "outputs": []
    }
  ]
}
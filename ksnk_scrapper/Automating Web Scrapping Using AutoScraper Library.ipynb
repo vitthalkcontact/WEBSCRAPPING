{
 "cells": [
  {
   "cell_type": "code",
   "execution_count": 1,
   "id": "ee3c886f-4f61-4f57-bc78-8aee3ee80a3d",
   "metadata": {},
   "outputs": [
    {
     "name": "stdout",
     "output_type": "stream",
     "text": [
      "Requirement already satisfied: autoscraper in c:\\users\\vk\\anaconda3\\lib\\site-packages (1.1.12)\n",
      "Requirement already satisfied: bs4 in c:\\users\\vk\\anaconda3\\lib\\site-packages (from autoscraper) (0.0.1)\n",
      "Requirement already satisfied: lxml in c:\\users\\vk\\anaconda3\\lib\\site-packages (from autoscraper) (4.6.3)\n",
      "Requirement already satisfied: requests in c:\\users\\vk\\anaconda3\\lib\\site-packages (from autoscraper) (2.25.1)\n",
      "Requirement already satisfied: beautifulsoup4 in c:\\users\\vk\\anaconda3\\lib\\site-packages (from bs4->autoscraper) (4.9.3)\n",
      "Requirement already satisfied: soupsieve>1.2 in c:\\users\\vk\\anaconda3\\lib\\site-packages (from beautifulsoup4->bs4->autoscraper) (2.2.1)\n",
      "Requirement already satisfied: urllib3<1.27,>=1.21.1 in c:\\users\\vk\\anaconda3\\lib\\site-packages (from requests->autoscraper) (1.26.4)\n",
      "Requirement already satisfied: certifi>=2017.4.17 in c:\\users\\vk\\anaconda3\\lib\\site-packages (from requests->autoscraper) (2021.5.30)\n",
      "Requirement already satisfied: idna<3,>=2.5 in c:\\users\\vk\\anaconda3\\lib\\site-packages (from requests->autoscraper) (2.10)\n",
      "Requirement already satisfied: chardet<5,>=3.0.2 in c:\\users\\vk\\anaconda3\\lib\\site-packages (from requests->autoscraper) (3.0.4)\n"
     ]
    }
   ],
   "source": [
    "!pip install autoscraper"
   ]
  },
  {
   "cell_type": "code",
   "execution_count": 2,
   "id": "6a2d307b-4c74-4532-8e37-037e4822caf5",
   "metadata": {},
   "outputs": [],
   "source": [
    "from autoscraper import AutoScraper"
   ]
  },
  {
   "cell_type": "code",
   "execution_count": 3,
   "id": "0d7d9997-320b-4b0f-87ae-7217bd2ea45c",
   "metadata": {},
   "outputs": [],
   "source": [
    "url = \"https://github.com/vitthalkcontact?tab=repositories\""
   ]
  },
  {
   "cell_type": "code",
   "execution_count": 5,
   "id": "6f30a70d-9c09-4713-9b64-1f7fa9a47ded",
   "metadata": {},
   "outputs": [],
   "source": [
    "wanted_list = [\"Heroku_Deployment\"]"
   ]
  },
  {
   "cell_type": "code",
   "execution_count": 6,
   "id": "9f2b4a7a-72f1-4dbb-b084-49765e44a091",
   "metadata": {},
   "outputs": [],
   "source": [
    "scraper = AutoScraper()"
   ]
  },
  {
   "cell_type": "code",
   "execution_count": 7,
   "id": "ff345814-8816-4ef7-a37d-fb99a53b701f",
   "metadata": {},
   "outputs": [],
   "source": [
    "result = scraper.build(url, wanted_list)"
   ]
  },
  {
   "cell_type": "code",
   "execution_count": 8,
   "id": "f07cf0e9-1293-426c-b0fc-e2690e86ba2b",
   "metadata": {},
   "outputs": [
    {
     "name": "stdout",
     "output_type": "stream",
     "text": [
      "['Heroku_Deployment', 'TimeSeries', 'EDA', 'PROJECTS-ML', 'Python', 'MSS_work-2021', 'SQLSERVER', 'WEBSCRAPPING', 'R', 'ANN', 'DEPLOY-AWS-AZURE-GCP-FASTAPI', 'HEROKU_NLP_DEPLOY', 'HEROKU_ML_DEPLOY', 'ML-KN', 'PROJECTS-DL', 'IQ', 'PROJECTS-NLP', 'YouTubeLI\\n\\n\\n          Forked from srivatsan88/YouTubeLI', 'ML', 'Tensorddash', 'CNN', 'RNN', 'CHEATSHEETS', 'vitthalkcontact.github.io', 'NLP', 'RECOMMENDATION', 'FLASK_DEPLOYMENT', 'Web_scraping', 'MYSQL', 'DATASCIENCE_PROJECTS']\n"
     ]
    }
   ],
   "source": [
    "print(result)"
   ]
  },
  {
   "cell_type": "code",
   "execution_count": 9,
   "id": "16c237d6-5a48-4517-be9c-5bc6e11775e3",
   "metadata": {},
   "outputs": [
    {
     "data": {
      "text/plain": [
       "30"
      ]
     },
     "execution_count": 9,
     "metadata": {},
     "output_type": "execute_result"
    }
   ],
   "source": [
    "len(result)"
   ]
  },
  {
   "cell_type": "code",
   "execution_count": 10,
   "id": "4d9006c3-3f20-4d06-be9f-e53567f2d4fd",
   "metadata": {},
   "outputs": [
    {
     "data": {
      "text/plain": [
       "{'rule_hqpv': ['Heroku_Deployment',\n",
       "  'TimeSeries',\n",
       "  'EDA',\n",
       "  'PROJECTS-ML',\n",
       "  'Python',\n",
       "  'MSS_work-2021',\n",
       "  'SQLSERVER',\n",
       "  'WEBSCRAPPING',\n",
       "  'R',\n",
       "  'ANN',\n",
       "  'DEPLOY-AWS-AZURE-GCP-FASTAPI',\n",
       "  'HEROKU_NLP_DEPLOY',\n",
       "  'HEROKU_ML_DEPLOY',\n",
       "  'ML-KN',\n",
       "  'PROJECTS-DL',\n",
       "  'IQ',\n",
       "  'PROJECTS-NLP',\n",
       "  'YouTubeLI\\n\\n\\n          Forked from srivatsan88/YouTubeLI',\n",
       "  'ML',\n",
       "  'Tensorddash',\n",
       "  'CNN',\n",
       "  'RNN',\n",
       "  'CHEATSHEETS',\n",
       "  'vitthalkcontact.github.io',\n",
       "  'NLP',\n",
       "  'RECOMMENDATION',\n",
       "  'FLASK_DEPLOYMENT',\n",
       "  'Web_scraping',\n",
       "  'MYSQL',\n",
       "  'DATASCIENCE_PROJECTS']}"
      ]
     },
     "execution_count": 10,
     "metadata": {},
     "output_type": "execute_result"
    }
   ],
   "source": [
    "scraper.get_result_similar(\"https://github.com/vitthalkcontact?tab=repositories\", grouped=True)"
   ]
  },
  {
   "cell_type": "code",
   "execution_count": 11,
   "id": "4fca82a4-9d13-4da3-a2f8-4bff2cb2da09",
   "metadata": {},
   "outputs": [],
   "source": [
    "scraper.set_rule_aliases({'rule_hqpv':'Title'})\n",
    "scraper.keep_rules(['rule_hqpv'])\n",
    "scraper.save(\"vitthal_search_respository\")"
   ]
  },
  {
   "cell_type": "code",
   "execution_count": 12,
   "id": "a71bab0b-540d-4d7c-a853-a38a366acbf5",
   "metadata": {},
   "outputs": [],
   "source": [
    "scraper.load(\"vitthal_search_respository\")"
   ]
  },
  {
   "cell_type": "code",
   "execution_count": 13,
   "id": "0f490072-5b7d-4fed-80e5-ceba5e673206",
   "metadata": {},
   "outputs": [],
   "source": [
    "result_new = scraper.get_result_similar(\"https://github.com/krishnaik06?tab=repositories\", group_by_alias=True)"
   ]
  },
  {
   "cell_type": "code",
   "execution_count": 14,
   "id": "5d59ec14-818d-4907-a5f3-7713ae300932",
   "metadata": {},
   "outputs": [
    {
     "name": "stdout",
     "output_type": "stream",
     "text": [
      "{'Title': ['Flask-Web-Framework', 'Flask-Heroku', 'Weather-Chatbot-Using-Luis', 'Malaria-Detection', 'Deep-Learning-Car-Brand', 'Image-Webscrapper', 'Car-Price-Prediction', 'Natural-Language-Processing', 'Finding-an-Outlier', 'Pywebheroku', 'Trnasformer-Bert', 'Huggingfacetransformer', 'Pyspark-With-Python', 'WaferFaultDetection', 'Google-Dialogflow-chatbots', 'Phising-Classifier', 'Test', 'Types-Of-Cross-Validation', 'Autoviz', 'Autoscrapper', 'Types-Of-Trnasformation', 'Custom-object-Detection', 'Gradio', 'EVALML', 'Machine-Learning-in-90-days', 'Shapash-', 'Car-PricePrediction', 'BMI-Calculator', 'PyWebIO', 'Audio-Classification']}\n"
     ]
    }
   ],
   "source": [
    "print(result_new)"
   ]
  },
  {
   "cell_type": "code",
   "execution_count": null,
   "id": "07e2ffa5-1db6-45ff-8b99-ad0680c2f256",
   "metadata": {},
   "outputs": [],
   "source": []
  }
 ],
 "metadata": {
  "kernelspec": {
   "display_name": "Python 3",
   "language": "python",
   "name": "python3"
  },
  "language_info": {
   "codemirror_mode": {
    "name": "ipython",
    "version": 3
   },
   "file_extension": ".py",
   "mimetype": "text/x-python",
   "name": "python",
   "nbconvert_exporter": "python",
   "pygments_lexer": "ipython3",
   "version": "3.8.8"
  }
 },
 "nbformat": 4,
 "nbformat_minor": 5
}

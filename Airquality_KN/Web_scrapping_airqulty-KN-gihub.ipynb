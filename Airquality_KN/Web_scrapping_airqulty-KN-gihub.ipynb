{
 "cells": [
  {
   "cell_type": "code",
   "execution_count": 1,
   "metadata": {},
   "outputs": [],
   "source": [
    "# Web_scrapping_airqulty-KN-gihub"
   ]
  },
  {
   "cell_type": "code",
   "execution_count": null,
   "metadata": {},
   "outputs": [],
   "source": [
    "# https://en.tutiempo.net/climate/01-2013/ws-432950.html"
   ]
  },
  {
   "cell_type": "code",
   "execution_count": 2,
   "metadata": {},
   "outputs": [
    {
     "name": "stdout",
     "output_type": "stream",
     "text": [
      "Time taken 65.3484275341034\n"
     ]
    }
   ],
   "source": [
    "# Libraries\n",
    "import requests\n",
    "import os\n",
    "import sys\n",
    "import time\n",
    "\n",
    "\n",
    "# Function\n",
    "def retrive_html():\n",
    "    for year in range(2015, 2021):\n",
    "        for month in range(1, 13):\n",
    "            if month < 10:\n",
    "                url = 'https://en.tutiempo.net/climate/0{}-{}/ws-404380.html'.format(month, year)\n",
    "            else:\n",
    "                url = 'https://en.tutiempo.net/climate/{}-{}/ws-404380.html'.format(month, year)\n",
    "            \n",
    "            texts = requests.get(url)\n",
    "            text_utf = texts.text.encode('utf=8')\n",
    "            \n",
    "            if not os.path.exists(r\"D:\\01_DATA_SCIENCE_FINAL\\SaudiArabia-Data\\{}\".format(year)):\n",
    "                os.makedirs(r\"D:\\01_DATA_SCIENCE_FINAL\\SaudiArabia-Data\\{}\".format(year))\n",
    "            with open(r\"D:\\01_DATA_SCIENCE_FINAL\\SaudiArabia-Data\\{}\\{}.html\".format(year, month), 'wb') as output:\n",
    "                output.write(text_utf)\n",
    "        sys.stdout.flush()\n",
    "        \n",
    "if __name__ == \"__main__\":\n",
    "    start_time = time.time()\n",
    "    retrive_html()    \n",
    "    stop_time = time.time()\n",
    "    print(\"Time taken {}\".format(stop_time-start_time))"
   ]
  },
  {
   "cell_type": "code",
   "execution_count": null,
   "metadata": {},
   "outputs": [],
   "source": []
  },
  {
   "cell_type": "code",
   "execution_count": null,
   "metadata": {},
   "outputs": [],
   "source": []
  },
  {
   "cell_type": "code",
   "execution_count": null,
   "metadata": {},
   "outputs": [],
   "source": []
  },
  {
   "cell_type": "code",
   "execution_count": null,
   "metadata": {},
   "outputs": [],
   "source": []
  }
 ],
 "metadata": {
  "kernelspec": {
   "display_name": "Python 3",
   "language": "python",
   "name": "python3"
  },
  "language_info": {
   "codemirror_mode": {
    "name": "ipython",
    "version": 3
   },
   "file_extension": ".py",
   "mimetype": "text/x-python",
   "name": "python",
   "nbconvert_exporter": "python",
   "pygments_lexer": "ipython3",
   "version": "3.7.4"
  }
 },
 "nbformat": 4,
 "nbformat_minor": 2
}
